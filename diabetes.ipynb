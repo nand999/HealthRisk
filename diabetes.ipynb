{
 "cells": [
  {
   "cell_type": "code",
   "execution_count": 1,
   "metadata": {},
   "outputs": [
    {
     "name": "stdout",
     "output_type": "stream",
     "text": [
      "WARNING:tensorflow:From c:\\Users\\Windows 10\\AppData\\Local\\Programs\\Python\\Python310\\lib\\site-packages\\keras\\src\\losses.py:2976: The name tf.losses.sparse_softmax_cross_entropy is deprecated. Please use tf.compat.v1.losses.sparse_softmax_cross_entropy instead.\n",
      "\n"
     ]
    }
   ],
   "source": [
    "import pandas as pd\n",
    "import numpy as np\n",
    "from sklearn.model_selection import train_test_split\n",
    "from sklearn.preprocessing import StandardScaler, MinMaxScaler, LabelEncoder\n",
    "from tensorflow.keras.models import Sequential\n",
    "from tensorflow.keras.layers import Dense, Dropout\n",
    "from tensorflow.keras.optimizers import Adam\n",
    "import tensorflow as tf"
   ]
  },
  {
   "cell_type": "code",
   "execution_count": null,
   "metadata": {},
   "outputs": [
    {
     "name": "stdout",
     "output_type": "stream",
     "text": [
      "Diabetes data loaded successfully.\n"
     ]
    }
   ],
   "source": [
    "# 1. Load Data\n",
    "try:\n",
    "    df_diabetes = pd.read_csv('diabetes_data.csv')\n",
    "    print(\"Diabetes data loaded successfully.\")\n",
    "except FileNotFoundError:\n",
    "    print(\"File diabetes_data.csv not found.\")\n",
    "except Exception as e:\n",
    "    print(f\"An error occurred: {e}\")\n"
   ]
  },
  {
   "cell_type": "code",
   "execution_count": null,
   "metadata": {},
   "outputs": [
    {
     "name": "stdout",
     "output_type": "stream",
     "text": [
      "    Age  Sex  HighChol  CholCheck   BMI  Smoker  HeartDiseaseorAttack  \\\n",
      "0   4.0  1.0       0.0        1.0  26.0     0.0                   0.0   \n",
      "1  12.0  1.0       1.0        1.0  26.0     1.0                   0.0   \n",
      "2  13.0  1.0       0.0        1.0  26.0     0.0                   0.0   \n",
      "3  11.0  1.0       1.0        1.0  28.0     1.0                   0.0   \n",
      "4   8.0  0.0       0.0        1.0  29.0     1.0                   0.0   \n",
      "\n",
      "   PhysActivity  Fruits  Veggies  HvyAlcoholConsump  GenHlth  MentHlth  \\\n",
      "0           1.0     0.0      1.0                0.0      3.0       5.0   \n",
      "1           0.0     1.0      0.0                0.0      3.0       0.0   \n",
      "2           1.0     1.0      1.0                0.0      1.0       0.0   \n",
      "3           1.0     1.0      1.0                0.0      3.0       0.0   \n",
      "4           1.0     1.0      1.0                0.0      2.0       0.0   \n",
      "\n",
      "   PhysHlth  DiffWalk  Stroke  HighBP  Diabetes  \n",
      "0      30.0       0.0     0.0     1.0       0.0  \n",
      "1       0.0       0.0     1.0     1.0       0.0  \n",
      "2      10.0       0.0     0.0     0.0       0.0  \n",
      "3       3.0       0.0     0.0     1.0       0.0  \n",
      "4       0.0       0.0     0.0     0.0       0.0  \n",
      "<class 'pandas.core.frame.DataFrame'>\n",
      "RangeIndex: 70692 entries, 0 to 70691\n",
      "Data columns (total 18 columns):\n",
      " #   Column                Non-Null Count  Dtype  \n",
      "---  ------                --------------  -----  \n",
      " 0   Age                   70692 non-null  float64\n",
      " 1   Sex                   70692 non-null  float64\n",
      " 2   HighChol              70692 non-null  float64\n",
      " 3   CholCheck             70692 non-null  float64\n",
      " 4   BMI                   70692 non-null  float64\n",
      " 5   Smoker                70692 non-null  float64\n",
      " 6   HeartDiseaseorAttack  70692 non-null  float64\n",
      " 7   PhysActivity          70692 non-null  float64\n",
      " 8   Fruits                70692 non-null  float64\n",
      " 9   Veggies               70692 non-null  float64\n",
      " 10  HvyAlcoholConsump     70692 non-null  float64\n",
      " 11  GenHlth               70692 non-null  float64\n",
      " 12  MentHlth              70692 non-null  float64\n",
      " 13  PhysHlth              70692 non-null  float64\n",
      " 14  DiffWalk              70692 non-null  float64\n",
      " 15  Stroke                70692 non-null  float64\n",
      " 16  HighBP                70692 non-null  float64\n",
      " 17  Diabetes              70692 non-null  float64\n",
      "dtypes: float64(18)\n",
      "memory usage: 9.7 MB\n",
      "None\n",
      "Age                     0\n",
      "Sex                     0\n",
      "HighChol                0\n",
      "CholCheck               0\n",
      "BMI                     0\n",
      "Smoker                  0\n",
      "HeartDiseaseorAttack    0\n",
      "PhysActivity            0\n",
      "Fruits                  0\n",
      "Veggies                 0\n",
      "HvyAlcoholConsump       0\n",
      "GenHlth                 0\n",
      "MentHlth                0\n",
      "PhysHlth                0\n",
      "DiffWalk                0\n",
      "Stroke                  0\n",
      "HighBP                  0\n",
      "Diabetes                0\n",
      "dtype: int64\n",
      "Diabetes\n",
      "0.0    35346\n",
      "1.0    35346\n",
      "Name: count, dtype: int64\n"
     ]
    }
   ],
   "source": [
    "# 2. EDA\n",
    "print(df_diabetes.head())\n",
    "print(df_diabetes.info())\n",
    "print(df_diabetes.isnull().sum()) \n",
    "print(df_diabetes['Diabetes'].value_counts()) "
   ]
  },
  {
   "cell_type": "code",
   "execution_count": null,
   "metadata": {},
   "outputs": [
    {
     "name": "stdout",
     "output_type": "stream",
     "text": [
      "Diabetes X_train shape: (56553, 17)\n",
      "Diabetes X_test shape: (14139, 17)\n"
     ]
    }
   ],
   "source": [
    "# preprocessing\n",
    "\n",
    "X_diabetes = df_diabetes.drop('Diabetes', axis=1)\n",
    "y_diabetes = df_diabetes['Diabetes']\n",
    "\n",
    "numerical_cols_diabetes = ['Age', 'BMI', 'GenHlth', 'MentHlth', 'PhysHlth']\n",
    "binary_cols_diabetes = [col for col in X_diabetes.columns if col not in numerical_cols_diabetes]\n",
    "\n",
    "for col in numerical_cols_diabetes:\n",
    "    if X_diabetes[col].isnull().any():\n",
    "        X_diabetes[col] = X_diabetes[col].fillna(X_diabetes[col].median())\n",
    "\n",
    "scaler_diabetes = StandardScaler() \n",
    "X_diabetes[numerical_cols_diabetes] = scaler_diabetes.fit_transform(X_diabetes[numerical_cols_diabetes])\n",
    "\n",
    "X_train_diabetes, X_test_diabetes, y_train_diabetes, y_test_diabetes = train_test_split(\n",
    "    X_diabetes, y_diabetes, test_size=0.2, random_state=42, stratify=y_diabetes\n",
    ")\n",
    "\n",
    "print(f\"Diabetes X_train shape: {X_train_diabetes.shape}\")\n",
    "print(f\"Diabetes X_test shape: {X_test_diabetes.shape}\")"
   ]
  },
  {
   "cell_type": "code",
   "execution_count": null,
   "metadata": {},
   "outputs": [
    {
     "name": "stdout",
     "output_type": "stream",
     "text": [
      "WARNING:tensorflow:From c:\\Users\\Windows 10\\AppData\\Local\\Programs\\Python\\Python310\\lib\\site-packages\\keras\\src\\backend.py:873: The name tf.get_default_graph is deprecated. Please use tf.compat.v1.get_default_graph instead.\n",
      "\n",
      "\n",
      "Diabetes Model Summary:\n",
      "Model: \"sequential\"\n",
      "_________________________________________________________________\n",
      " Layer (type)                Output Shape              Param #   \n",
      "=================================================================\n",
      " dense (Dense)               (None, 128)               2304      \n",
      "                                                                 \n",
      " dropout (Dropout)           (None, 128)               0         \n",
      "                                                                 \n",
      " dense_1 (Dense)             (None, 64)                8256      \n",
      "                                                                 \n",
      " dropout_1 (Dropout)         (None, 64)                0         \n",
      "                                                                 \n",
      " dense_2 (Dense)             (None, 32)                2080      \n",
      "                                                                 \n",
      " dense_3 (Dense)             (None, 1)                 33        \n",
      "                                                                 \n",
      "=================================================================\n",
      "Total params: 12673 (49.50 KB)\n",
      "Trainable params: 12673 (49.50 KB)\n",
      "Non-trainable params: 0 (0.00 Byte)\n",
      "_________________________________________________________________\n",
      "\n",
      "Training Diabetes Model...\n",
      "WARNING:tensorflow:From c:\\Users\\Windows 10\\AppData\\Local\\Programs\\Python\\Python310\\lib\\site-packages\\keras\\src\\utils\\tf_utils.py:492: The name tf.ragged.RaggedTensorValue is deprecated. Please use tf.compat.v1.ragged.RaggedTensorValue instead.\n",
      "\n",
      "WARNING:tensorflow:From c:\\Users\\Windows 10\\AppData\\Local\\Programs\\Python\\Python310\\lib\\site-packages\\keras\\src\\engine\\base_layer_utils.py:384: The name tf.executing_eagerly_outside_functions is deprecated. Please use tf.compat.v1.executing_eagerly_outside_functions instead.\n",
      "\n",
      "Diabetes Training Accuracy: 0.7583\n",
      "Diabetes Validation Accuracy: 0.7496\n"
     ]
    }
   ],
   "source": [
    "#4. membaut model\n",
    "model_diabetes = Sequential([\n",
    "    Dense(128, activation='relu', input_shape=(X_train_diabetes.shape[1],)),\n",
    "    Dropout(0.3),\n",
    "    Dense(64, activation='relu'),\n",
    "    Dropout(0.3),\n",
    "    Dense(32, activation='relu'),\n",
    "    Dense(1, activation='sigmoid') \n",
    "])\n",
    "\n",
    "model_diabetes.compile(optimizer=Adam(learning_rate=0.001),\n",
    "                       loss='binary_crossentropy',\n",
    "                       metrics=['accuracy'])\n",
    "\n",
    "print(\"\\nDiabetes Model Summary:\")\n",
    "model_diabetes.summary()\n",
    "\n",
    "print(\"\\nTraining Diabetes Model...\")\n",
    "history_diabetes = model_diabetes.fit(\n",
    "    X_train_diabetes, y_train_diabetes,\n",
    "    epochs=50, \n",
    "    batch_size=32,\n",
    "    validation_split=0.1,\n",
    "    verbose=0 \n",
    ")\n",
    "\n",
    "print(f\"Diabetes Training Accuracy: {history_diabetes.history['accuracy'][-1]:.4f}\")\n",
    "print(f\"Diabetes Validation Accuracy: {history_diabetes.history['val_accuracy'][-1]:.4f}\")"
   ]
  },
  {
   "cell_type": "code",
   "execution_count": null,
   "metadata": {},
   "outputs": [
    {
     "name": "stdout",
     "output_type": "stream",
     "text": [
      "\n",
      "Diabetes Test Loss: 0.5068\n",
      "Diabetes Test Accuracy: 0.7462\n"
     ]
    }
   ],
   "source": [
    "# 7. Evaluasi\n",
    "loss_diabetes, accuracy_diabetes = model_diabetes.evaluate(X_test_diabetes, y_test_diabetes, verbose=0)\n",
    "print(f\"\\nDiabetes Test Loss: {loss_diabetes:.4f}\")\n",
    "print(f\"Diabetes Test Accuracy: {accuracy_diabetes:.4f}\")"
   ]
  },
  {
   "cell_type": "code",
   "execution_count": null,
   "metadata": {},
   "outputs": [
    {
     "name": "stdout",
     "output_type": "stream",
     "text": [
      "INFO:tensorflow:Assets written to: ./saved_models/diabetes_model\\assets\n"
     ]
    },
    {
     "name": "stderr",
     "output_type": "stream",
     "text": [
      "INFO:tensorflow:Assets written to: ./saved_models/diabetes_model\\assets\n"
     ]
    },
    {
     "name": "stdout",
     "output_type": "stream",
     "text": [
      "Diabetes model saved to ./saved_models/diabetes_model\n",
      "Diabetes scaler saved to ./saved_models/diabetes_scaler.pkl\n"
     ]
    }
   ],
   "source": [
    "#8 menyimpan model\n",
    "import os\n",
    "model_dir_diabetes = './saved_models/diabetes_model'\n",
    "os.makedirs(model_dir_diabetes, exist_ok=True)\n",
    "model_diabetes.save(model_dir_diabetes)\n",
    "print(f\"Diabetes model saved to {model_dir_diabetes}\")\n",
    "\n",
    "import joblib\n",
    "scaler_diabetes_path = './saved_models/diabetes_scaler.pkl'\n",
    "joblib.dump(scaler_diabetes, scaler_diabetes_path)\n",
    "print(f\"Diabetes scaler saved to {scaler_diabetes_path}\")"
   ]
  }
 ],
 "metadata": {
  "kernelspec": {
   "display_name": "Python 3",
   "language": "python",
   "name": "python3"
  },
  "language_info": {
   "codemirror_mode": {
    "name": "ipython",
    "version": 3
   },
   "file_extension": ".py",
   "mimetype": "text/x-python",
   "name": "python",
   "nbconvert_exporter": "python",
   "pygments_lexer": "ipython3",
   "version": "3.10.4"
  }
 },
 "nbformat": 4,
 "nbformat_minor": 2
}
