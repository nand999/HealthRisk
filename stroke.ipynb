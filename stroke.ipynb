{
 "cells": [
  {
   "cell_type": "code",
   "execution_count": 2,
   "metadata": {},
   "outputs": [
    {
     "name": "stdout",
     "output_type": "stream",
     "text": [
      "WARNING:tensorflow:From c:\\Users\\Windows 10\\AppData\\Local\\Programs\\Python\\Python310\\lib\\site-packages\\keras\\src\\losses.py:2976: The name tf.losses.sparse_softmax_cross_entropy is deprecated. Please use tf.compat.v1.losses.sparse_softmax_cross_entropy instead.\n",
      "\n"
     ]
    }
   ],
   "source": [
    "import pandas as pd\n",
    "import numpy as np\n",
    "from sklearn.model_selection import train_test_split\n",
    "from sklearn.preprocessing import StandardScaler, OneHotEncoder, LabelEncoder\n",
    "from sklearn.compose import ColumnTransformer\n",
    "from tensorflow.keras.models import Sequential\n",
    "from tensorflow.keras.layers import Dense, Dropout\n",
    "from tensorflow.keras.optimizers import Adam\n",
    "import tensorflow as tf\n",
    "import joblib\n",
    "import os"
   ]
  },
  {
   "cell_type": "code",
   "execution_count": 8,
   "metadata": {},
   "outputs": [
    {
     "name": "stdout",
     "output_type": "stream",
     "text": [
      "Stroke data loaded successfully.\n"
     ]
    }
   ],
   "source": [
    "# 1. Load Data\n",
    "try:\n",
    "    df_stroke = pd.read_csv('stroke_data.csv')\n",
    "    print(\"Stroke data loaded successfully.\")\n",
    "except FileNotFoundError:\n",
    "    print(\"File stroke_data.csv not found.\")\n",
    "except Exception as e:\n",
    "    print(f\"An error occurred: {e}\")\n"
   ]
  },
  {
   "cell_type": "code",
   "execution_count": 5,
   "metadata": {},
   "outputs": [
    {
     "name": "stdout",
     "output_type": "stream",
     "text": [
      "   sex   age  hypertension  heart_disease  ever_married  work_type  \\\n",
      "0  1.0  63.0             0              1             1          4   \n",
      "1  1.0  42.0             0              1             1          4   \n",
      "2  0.0  61.0             0              0             1          4   \n",
      "3  1.0  41.0             1              0             1          3   \n",
      "4  1.0  85.0             0              0             1          4   \n",
      "\n",
      "   Residence_type  avg_glucose_level   bmi  smoking_status  stroke  \n",
      "0               1             228.69  36.6               1       1  \n",
      "1               0             105.92  32.5               0       1  \n",
      "2               1             171.23  34.4               1       1  \n",
      "3               0             174.12  24.0               0       1  \n",
      "4               1             186.21  29.0               1       1  \n",
      "<class 'pandas.core.frame.DataFrame'>\n",
      "RangeIndex: 40910 entries, 0 to 40909\n",
      "Data columns (total 11 columns):\n",
      " #   Column             Non-Null Count  Dtype  \n",
      "---  ------             --------------  -----  \n",
      " 0   sex                40910 non-null  float64\n",
      " 1   age                40910 non-null  float64\n",
      " 2   hypertension       40910 non-null  int64  \n",
      " 3   heart_disease      40910 non-null  int64  \n",
      " 4   ever_married       40910 non-null  int64  \n",
      " 5   work_type          40910 non-null  int64  \n",
      " 6   Residence_type     40910 non-null  int64  \n",
      " 7   avg_glucose_level  40910 non-null  float64\n",
      " 8   bmi                40910 non-null  float64\n",
      " 9   smoking_status     40910 non-null  int64  \n",
      " 10  stroke             40910 non-null  int64  \n",
      "dtypes: float64(4), int64(7)\n",
      "memory usage: 3.4 MB\n",
      "None\n",
      "sex                  0\n",
      "age                  0\n",
      "hypertension         0\n",
      "heart_disease        0\n",
      "ever_married         0\n",
      "work_type            0\n",
      "Residence_type       0\n",
      "avg_glucose_level    0\n",
      "bmi                  0\n",
      "smoking_status       0\n",
      "stroke               0\n",
      "dtype: int64\n",
      "stroke\n",
      "1    20460\n",
      "0    20450\n",
      "Name: count, dtype: int64\n"
     ]
    }
   ],
   "source": [
    "# 2. EDA\n",
    "print(df_stroke.head())\n",
    "print(df_stroke.info())\n",
    "print(df_stroke.isnull().sum()) \n",
    "print(df_stroke['stroke'].value_counts()) \n",
    "\n"
   ]
  },
  {
   "cell_type": "code",
   "execution_count": 6,
   "metadata": {},
   "outputs": [
    {
     "name": "stdout",
     "output_type": "stream",
     "text": [
      "Stroke X_train shape: (32728, 18)\n",
      "Stroke X_test shape: (8182, 18)\n"
     ]
    }
   ],
   "source": [
    "# 3. Preprocessing\n",
    "\n",
    "if 'sex' in df_stroke.columns and df_stroke['sex'].isnull().any():\n",
    "    mode_sex = df_stroke['sex'].mode()[0]\n",
    "    df_stroke['sex'] = df_stroke['sex'].fillna(mode_sex)\n",
    "\n",
    "X_stroke = df_stroke.drop('stroke', axis=1)\n",
    "y_stroke = df_stroke['stroke']\n",
    "\n",
    "categorical_cols_stroke = ['sex', 'ever_married', 'work_type', 'Residence_type', 'smoking_status']\n",
    "numerical_cols_stroke = ['age', 'hypertension', 'heart_disease', 'avg_glucose_level', 'bmi']\n",
    "\n",
    "preprocessor_stroke = ColumnTransformer(\n",
    "    transformers=[\n",
    "        ('num', StandardScaler(), numerical_cols_stroke),\n",
    "        ('cat', OneHotEncoder(handle_unknown='ignore'), categorical_cols_stroke)\n",
    "    ],\n",
    "    remainder='passthrough'\n",
    ")\n",
    "\n",
    "X_processed_stroke = preprocessor_stroke.fit_transform(X_stroke)\n",
    "\n",
    "X_train_stroke, X_test_stroke, y_train_stroke, y_test_stroke = train_test_split(\n",
    "    X_processed_stroke, y_stroke, test_size=0.2, random_state=42, stratify=y_stroke\n",
    ")\n",
    "\n",
    "print(f\"Stroke X_train shape: {X_train_stroke.shape}\")\n",
    "print(f\"Stroke X_test shape: {X_test_stroke.shape}\")"
   ]
  },
  {
   "cell_type": "code",
   "execution_count": null,
   "metadata": {},
   "outputs": [
    {
     "name": "stdout",
     "output_type": "stream",
     "text": [
      "WARNING:tensorflow:From c:\\Users\\Windows 10\\AppData\\Local\\Programs\\Python\\Python310\\lib\\site-packages\\keras\\src\\backend.py:873: The name tf.get_default_graph is deprecated. Please use tf.compat.v1.get_default_graph instead.\n",
      "\n",
      "\n",
      "Stroke Model Summary:\n",
      "Model: \"sequential\"\n",
      "_________________________________________________________________\n",
      " Layer (type)                Output Shape              Param #   \n",
      "=================================================================\n",
      " dense (Dense)               (None, 128)               2560      \n",
      "                                                                 \n",
      " dropout (Dropout)           (None, 128)               0         \n",
      "                                                                 \n",
      " dense_1 (Dense)             (None, 64)                8256      \n",
      "                                                                 \n",
      " dropout_1 (Dropout)         (None, 64)                0         \n",
      "                                                                 \n",
      " dense_2 (Dense)             (None, 32)                2080      \n",
      "                                                                 \n",
      " dense_3 (Dense)             (None, 1)                 33        \n",
      "                                                                 \n",
      "=================================================================\n",
      "Total params: 12929 (50.50 KB)\n",
      "Trainable params: 12929 (50.50 KB)\n",
      "Non-trainable params: 0 (0.00 Byte)\n",
      "_________________________________________________________________\n",
      "\n",
      "Training Stroke Model...\n",
      "WARNING:tensorflow:From c:\\Users\\Windows 10\\AppData\\Local\\Programs\\Python\\Python310\\lib\\site-packages\\keras\\src\\utils\\tf_utils.py:492: The name tf.ragged.RaggedTensorValue is deprecated. Please use tf.compat.v1.ragged.RaggedTensorValue instead.\n",
      "\n",
      "WARNING:tensorflow:From c:\\Users\\Windows 10\\AppData\\Local\\Programs\\Python\\Python310\\lib\\site-packages\\keras\\src\\engine\\base_layer_utils.py:384: The name tf.executing_eagerly_outside_functions is deprecated. Please use tf.compat.v1.executing_eagerly_outside_functions instead.\n",
      "\n",
      "Stroke Training Accuracy: 0.8861\n",
      "Stroke Validation Accuracy: 0.9169\n"
     ]
    }
   ],
   "source": [
    "# 4 membuat model\n",
    "model_stroke = Sequential([\n",
    "    Dense(128, activation='relu', input_shape=(X_train_stroke.shape[1],)),\n",
    "    Dropout(0.3),\n",
    "    Dense(64, activation='relu'),\n",
    "    Dropout(0.3),\n",
    "    Dense(32, activation='relu'),\n",
    "    Dense(1, activation='sigmoid') \n",
    "])\n",
    "\n",
    "\n",
    "model_stroke.compile(optimizer=Adam(learning_rate=0.001),\n",
    "                     loss='binary_crossentropy',\n",
    "                     metrics=['accuracy'])\n",
    "\n",
    "print(\"\\nStroke Model Summary:\")\n",
    "model_stroke.summary()\n",
    "\n",
    "\n",
    "print(\"\\nTraining Stroke Model...\")\n",
    "history_stroke = model_stroke.fit(\n",
    "    X_train_stroke, y_train_stroke,\n",
    "    epochs=50,\n",
    "    batch_size=32,\n",
    "    validation_split=0.1,\n",
    "    verbose=0\n",
    ")\n",
    "\n",
    "print(f\"Stroke Training Accuracy: {history_stroke.history['accuracy'][-1]:.4f}\")\n",
    "print(f\"Stroke Validation Accuracy: {history_stroke.history['val_accuracy'][-1]:.4f}\")"
   ]
  },
  {
   "cell_type": "code",
   "execution_count": null,
   "metadata": {},
   "outputs": [
    {
     "name": "stdout",
     "output_type": "stream",
     "text": [
      "\n",
      "Stroke Test Loss: 0.1950\n",
      "Stroke Test Accuracy: 0.9190\n",
      "INFO:tensorflow:Assets written to: ./saved_models/stroke_model\\assets\n"
     ]
    },
    {
     "name": "stderr",
     "output_type": "stream",
     "text": [
      "INFO:tensorflow:Assets written to: ./saved_models/stroke_model\\assets\n"
     ]
    },
    {
     "name": "stdout",
     "output_type": "stream",
     "text": [
      "Stroke model saved to ./saved_models/stroke_model\n",
      "Stroke preprocessor saved to ./saved_models/stroke_preprocessor.pkl\n"
     ]
    }
   ],
   "source": [
    "# 7. evaluasi model\n",
    "loss_stroke, accuracy_stroke = model_stroke.evaluate(X_test_stroke, y_test_stroke, verbose=0)\n",
    "print(f\"\\nStroke Test Loss: {loss_stroke:.4f}\")\n",
    "print(f\"Stroke Test Accuracy: {accuracy_stroke:.4f}\")\n",
    "\n",
    "# 8. Menyimpan model\n",
    "model_dir_stroke = './saved_models/stroke_model'\n",
    "os.makedirs(model_dir_stroke, exist_ok=True)\n",
    "model_stroke.save(model_dir_stroke)\n",
    "print(f\"Stroke model saved to {model_dir_stroke}\")\n",
    "\n",
    "preprocessor_stroke_path = './saved_models/stroke_preprocessor.pkl'\n",
    "joblib.dump(preprocessor_stroke, preprocessor_stroke_path)\n",
    "print(f\"Stroke preprocessor saved to {preprocessor_stroke_path}\")"
   ]
  }
 ],
 "metadata": {
  "kernelspec": {
   "display_name": "Python 3",
   "language": "python",
   "name": "python3"
  },
  "language_info": {
   "codemirror_mode": {
    "name": "ipython",
    "version": 3
   },
   "file_extension": ".py",
   "mimetype": "text/x-python",
   "name": "python",
   "nbconvert_exporter": "python",
   "pygments_lexer": "ipython3",
   "version": "3.10.4"
  }
 },
 "nbformat": 4,
 "nbformat_minor": 2
}
