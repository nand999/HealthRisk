{
 "cells": [
  {
   "cell_type": "code",
   "execution_count": 1,
   "metadata": {},
   "outputs": [
    {
     "name": "stdout",
     "output_type": "stream",
     "text": [
      "WARNING:tensorflow:From c:\\Users\\Windows 10\\AppData\\Local\\Programs\\Python\\Python310\\lib\\site-packages\\keras\\src\\losses.py:2976: The name tf.losses.sparse_softmax_cross_entropy is deprecated. Please use tf.compat.v1.losses.sparse_softmax_cross_entropy instead.\n",
      "\n"
     ]
    }
   ],
   "source": [
    "import pandas as pd\n",
    "import numpy as np\n",
    "from sklearn.model_selection import train_test_split\n",
    "from sklearn.preprocessing import StandardScaler, OneHotEncoder\n",
    "from sklearn.compose import ColumnTransformer\n",
    "from tensorflow.keras.models import Sequential\n",
    "from tensorflow.keras.layers import Dense, Dropout\n",
    "from tensorflow.keras.optimizers import Adam\n",
    "import tensorflow as tf\n",
    "import joblib\n",
    "import os"
   ]
  },
  {
   "cell_type": "code",
   "execution_count": null,
   "metadata": {},
   "outputs": [
    {
     "name": "stdout",
     "output_type": "stream",
     "text": [
      "Hypertension data loaded successfully.\n"
     ]
    }
   ],
   "source": [
    "# 1. Load Data\n",
    "try:\n",
    "    df_hypertension = pd.read_csv('hypertension_data.csv')\n",
    "    print(\"Hypertension data loaded successfully.\")\n",
    "except FileNotFoundError:\n",
    "    print(\"File hypertension_data.csv not found.\")\n",
    "except Exception as e:\n",
    "    print(f\"An error occurred: {e}\")\n"
   ]
  },
  {
   "cell_type": "code",
   "execution_count": null,
   "metadata": {},
   "outputs": [
    {
     "name": "stdout",
     "output_type": "stream",
     "text": [
      "    age  sex  cp  trestbps  chol  fbs  restecg  thalach  exang  oldpeak  \\\n",
      "0  57.0  1.0   3       145   233    1        0      150      0      2.3   \n",
      "1  64.0  0.0   2       130   250    0        1      187      0      3.5   \n",
      "2  52.0  1.0   1       130   204    0        0      172      0      1.4   \n",
      "3  56.0  0.0   1       120   236    0        1      178      0      0.8   \n",
      "4  66.0  0.0   0       120   354    0        1      163      1      0.6   \n",
      "\n",
      "   slope  ca  thal  target  \n",
      "0      0   0     1       1  \n",
      "1      0   0     2       1  \n",
      "2      2   0     2       1  \n",
      "3      2   0     2       1  \n",
      "4      2   0     2       1  \n",
      "<class 'pandas.core.frame.DataFrame'>\n",
      "RangeIndex: 26083 entries, 0 to 26082\n",
      "Data columns (total 14 columns):\n",
      " #   Column    Non-Null Count  Dtype  \n",
      "---  ------    --------------  -----  \n",
      " 0   age       26083 non-null  float64\n",
      " 1   sex       26058 non-null  float64\n",
      " 2   cp        26083 non-null  int64  \n",
      " 3   trestbps  26083 non-null  int64  \n",
      " 4   chol      26083 non-null  int64  \n",
      " 5   fbs       26083 non-null  int64  \n",
      " 6   restecg   26083 non-null  int64  \n",
      " 7   thalach   26083 non-null  int64  \n",
      " 8   exang     26083 non-null  int64  \n",
      " 9   oldpeak   26083 non-null  float64\n",
      " 10  slope     26083 non-null  int64  \n",
      " 11  ca        26083 non-null  int64  \n",
      " 12  thal      26083 non-null  int64  \n",
      " 13  target    26083 non-null  int64  \n",
      "dtypes: float64(3), int64(11)\n",
      "memory usage: 2.8 MB\n",
      "None\n",
      "age          0\n",
      "sex         25\n",
      "cp           0\n",
      "trestbps     0\n",
      "chol         0\n",
      "fbs          0\n",
      "restecg      0\n",
      "thalach      0\n",
      "exang        0\n",
      "oldpeak      0\n",
      "slope        0\n",
      "ca           0\n",
      "thal         0\n",
      "target       0\n",
      "dtype: int64\n",
      "target\n",
      "1    14274\n",
      "0    11809\n",
      "Name: count, dtype: int64\n"
     ]
    }
   ],
   "source": [
    "#2.EDA\n",
    "print(df_hypertension.head())\n",
    "print(df_hypertension.info())\n",
    "print(df_hypertension.isnull().sum())\n",
    "print(df_hypertension['target'].value_counts())"
   ]
  },
  {
   "cell_type": "code",
   "execution_count": null,
   "metadata": {},
   "outputs": [
    {
     "name": "stdout",
     "output_type": "stream",
     "text": [
      "Hypertension X_train shape: (20866, 30)\n",
      "Hypertension X_test shape: (5217, 30)\n"
     ]
    }
   ],
   "source": [
    "# 3. Preprocessing\n",
    "\n",
    "X_hypertension = df_hypertension.drop('target', axis=1)\n",
    "y_hypertension = df_hypertension['target']\n",
    "\n",
    "categorical_cols_hypertension = ['sex', 'cp', 'fbs', 'restecg', 'exang', 'slope', 'ca', 'thal']\n",
    "numerical_cols_hypertension = ['age', 'trestbps', 'chol', 'thalach', 'oldpeak']\n",
    "\n",
    "for col in numerical_cols_hypertension:\n",
    "    if X_hypertension[col].isnull().any():\n",
    "        X_hypertension[col] = X_hypertension[col].fillna(X_hypertension[col].median())\n",
    "for col in categorical_cols_hypertension:\n",
    "    if X_hypertension[col].isnull().any():\n",
    "        X_hypertension[col] = X_hypertension[col].fillna(X_hypertension[col].mode()[0])\n",
    "\n",
    "preprocessor_hypertension = ColumnTransformer(\n",
    "    transformers=[\n",
    "        ('num', StandardScaler(), numerical_cols_hypertension),\n",
    "        ('cat', OneHotEncoder(handle_unknown='ignore'), categorical_cols_hypertension)\n",
    "    ],\n",
    "    remainder='passthrough' # Keep other columns (if any)\n",
    ")\n",
    "\n",
    "X_processed_hypertension = preprocessor_hypertension.fit_transform(X_hypertension)\n",
    "\n",
    "X_train_hypertension, X_test_hypertension, y_train_hypertension, y_test_hypertension = train_test_split(\n",
    "    X_processed_hypertension, y_hypertension, test_size=0.2, random_state=42, stratify=y_hypertension\n",
    ")\n",
    "\n",
    "print(f\"Hypertension X_train shape: {X_train_hypertension.shape}\")\n",
    "print(f\"Hypertension X_test shape: {X_test_hypertension.shape}\")"
   ]
  },
  {
   "cell_type": "code",
   "execution_count": null,
   "metadata": {},
   "outputs": [
    {
     "name": "stdout",
     "output_type": "stream",
     "text": [
      "WARNING:tensorflow:From c:\\Users\\Windows 10\\AppData\\Local\\Programs\\Python\\Python310\\lib\\site-packages\\keras\\src\\backend.py:873: The name tf.get_default_graph is deprecated. Please use tf.compat.v1.get_default_graph instead.\n",
      "\n",
      "\n",
      "Hypertension Model Summary:\n",
      "Model: \"sequential\"\n",
      "_________________________________________________________________\n",
      " Layer (type)                Output Shape              Param #   \n",
      "=================================================================\n",
      " dense (Dense)               (None, 128)               3968      \n",
      "                                                                 \n",
      " dropout (Dropout)           (None, 128)               0         \n",
      "                                                                 \n",
      " dense_1 (Dense)             (None, 64)                8256      \n",
      "                                                                 \n",
      " dropout_1 (Dropout)         (None, 64)                0         \n",
      "                                                                 \n",
      " dense_2 (Dense)             (None, 32)                2080      \n",
      "                                                                 \n",
      " dense_3 (Dense)             (None, 1)                 33        \n",
      "                                                                 \n",
      "=================================================================\n",
      "Total params: 14337 (56.00 KB)\n",
      "Trainable params: 14337 (56.00 KB)\n",
      "Non-trainable params: 0 (0.00 Byte)\n",
      "_________________________________________________________________\n",
      "\n",
      "Training Hypertension Model...\n",
      "WARNING:tensorflow:From c:\\Users\\Windows 10\\AppData\\Local\\Programs\\Python\\Python310\\lib\\site-packages\\keras\\src\\utils\\tf_utils.py:492: The name tf.ragged.RaggedTensorValue is deprecated. Please use tf.compat.v1.ragged.RaggedTensorValue instead.\n",
      "\n",
      "WARNING:tensorflow:From c:\\Users\\Windows 10\\AppData\\Local\\Programs\\Python\\Python310\\lib\\site-packages\\keras\\src\\engine\\base_layer_utils.py:384: The name tf.executing_eagerly_outside_functions is deprecated. Please use tf.compat.v1.executing_eagerly_outside_functions instead.\n",
      "\n",
      "Hypertension Training Accuracy: 0.9997\n",
      "Hypertension Validation Accuracy: 1.0000\n"
     ]
    }
   ],
   "source": [
    "# 4.Membuat Model\n",
    "model_hypertension = Sequential([\n",
    "    Dense(128, activation='relu', input_shape=(X_train_hypertension.shape[1],)),\n",
    "    Dropout(0.3),\n",
    "    Dense(64, activation='relu'),\n",
    "    Dropout(0.3),\n",
    "    Dense(32, activation='relu'),\n",
    "    Dense(1, activation='sigmoid') \n",
    "])\n",
    "\n",
    "model_hypertension.compile(optimizer=Adam(learning_rate=0.001),\n",
    "                          loss='binary_crossentropy',\n",
    "                          metrics=['accuracy'])\n",
    "\n",
    "print(\"\\nHypertension Model Summary:\")\n",
    "model_hypertension.summary()\n",
    "\n",
    "print(\"\\nTraining Hypertension Model...\")\n",
    "history_hypertension = model_hypertension.fit(\n",
    "    X_train_hypertension, y_train_hypertension,\n",
    "    epochs=50,\n",
    "    batch_size=32,\n",
    "    validation_split=0.1,\n",
    "    verbose=0\n",
    ")\n",
    "\n",
    "print(f\"Hypertension Training Accuracy: {history_hypertension.history['accuracy'][-1]:.4f}\")\n",
    "print(f\"Hypertension Validation Accuracy: {history_hypertension.history['val_accuracy'][-1]:.4f}\")"
   ]
  },
  {
   "cell_type": "code",
   "execution_count": null,
   "metadata": {},
   "outputs": [
    {
     "name": "stdout",
     "output_type": "stream",
     "text": [
      "\n",
      "Hypertension Test Loss: 0.0000\n",
      "Hypertension Test Accuracy: 1.0000\n"
     ]
    }
   ],
   "source": [
    "# Evaluasi\n",
    "loss_hypertension, accuracy_hypertension = model_hypertension.evaluate(X_test_hypertension, y_test_hypertension, verbose=0)\n",
    "print(f\"\\nHypertension Test Loss: {loss_hypertension:.4f}\")\n",
    "print(f\"Hypertension Test Accuracy: {accuracy_hypertension:.4f}\")"
   ]
  },
  {
   "cell_type": "code",
   "execution_count": null,
   "metadata": {},
   "outputs": [
    {
     "name": "stdout",
     "output_type": "stream",
     "text": [
      "INFO:tensorflow:Assets written to: ./saved_models/hypertension_model\\assets\n"
     ]
    },
    {
     "name": "stderr",
     "output_type": "stream",
     "text": [
      "INFO:tensorflow:Assets written to: ./saved_models/hypertension_model\\assets\n"
     ]
    },
    {
     "name": "stdout",
     "output_type": "stream",
     "text": [
      "Hypertension model saved to ./saved_models/hypertension_model\n",
      "Hypertension preprocessor saved to ./saved_models/hypertension_preprocessor.pkl\n"
     ]
    }
   ],
   "source": [
    "# 8. menyimpan model dan preprocessor\n",
    "model_dir_hypertension = './saved_models/hypertension_model'\n",
    "os.makedirs(model_dir_hypertension, exist_ok=True)\n",
    "model_hypertension.save(model_dir_hypertension)\n",
    "print(f\"Hypertension model saved to {model_dir_hypertension}\")\n",
    "\n",
    "preprocessor_hypertension_path = './saved_models/hypertension_preprocessor.pkl'\n",
    "joblib.dump(preprocessor_hypertension, preprocessor_hypertension_path)\n",
    "print(f\"Hypertension preprocessor saved to {preprocessor_hypertension_path}\")"
   ]
  }
 ],
 "metadata": {
  "kernelspec": {
   "display_name": "Python 3",
   "language": "python",
   "name": "python3"
  },
  "language_info": {
   "codemirror_mode": {
    "name": "ipython",
    "version": 3
   },
   "file_extension": ".py",
   "mimetype": "text/x-python",
   "name": "python",
   "nbconvert_exporter": "python",
   "pygments_lexer": "ipython3",
   "version": "3.10.4"
  }
 },
 "nbformat": 4,
 "nbformat_minor": 2
}
